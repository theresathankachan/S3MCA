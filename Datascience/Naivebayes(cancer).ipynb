{
  "nbformat": 4,
  "nbformat_minor": 0,
  "metadata": {
    "colab": {
      "provenance": [],
      "authorship_tag": "ABX9TyMsyjJzY84+waqNDwpuKDW2",
      "include_colab_link": true
    },
    "kernelspec": {
      "name": "python3",
      "display_name": "Python 3"
    },
    "language_info": {
      "name": "python"
    }
  },
  "cells": [
    {
      "cell_type": "markdown",
      "metadata": {
        "id": "view-in-github",
        "colab_type": "text"
      },
      "source": [
        "<a href=\"https://colab.research.google.com/github/theresathankachan/S3MCA/blob/main/Datascience/Naivebayes(cancer).ipynb\" target=\"_parent\"><img src=\"https://colab.research.google.com/assets/colab-badge.svg\" alt=\"Open In Colab\"/></a>"
      ]
    },
    {
      "cell_type": "code",
      "execution_count": 20,
      "metadata": {
        "id": "XxfO0gWRF2EA"
      },
      "outputs": [],
      "source": [
        "import pandas as pd\n",
        "from sklearn.model_selection import train_test_split\n",
        "from sklearn import metrics"
      ]
    },
    {
      "cell_type": "code",
      "source": [
        "df=pd.read_csv(\"https://raw.githubusercontent.com/theresathankachan/S3MCA/main/Datascience/Datasets/Breast_Cancer.csv\")\n",
        "print(df.head(10))"
      ],
      "metadata": {
        "colab": {
          "base_uri": "https://localhost:8080/"
        },
        "id": "K7BMRfGcGDy2",
        "outputId": "6dccfaf7-7fc9-4013-be34-da6081bedb4d"
      },
      "execution_count": 21,
      "outputs": [
        {
          "output_type": "stream",
          "name": "stdout",
          "text": [
            "         id diagnosis  radius_mean  texture_mean  perimeter_mean  area_mean  \\\n",
            "0    842302         M        17.99         10.38          122.80     1001.0   \n",
            "1    842517         M        20.57         17.77          132.90     1326.0   \n",
            "2  84300903         M        19.69         21.25          130.00     1203.0   \n",
            "3  84348301         M        11.42         20.38           77.58      386.1   \n",
            "4  84358402         M        20.29         14.34          135.10     1297.0   \n",
            "5    843786         M        12.45         15.70           82.57      477.1   \n",
            "6    844359         M        18.25         19.98          119.60     1040.0   \n",
            "7  84458202         M        13.71         20.83           90.20      577.9   \n",
            "8    844981         M        13.00         21.82           87.50      519.8   \n",
            "9  84501001         M        12.46         24.04           83.97      475.9   \n",
            "\n",
            "   smoothness_mean  compactness_mean  concavity_mean  concave points_mean  \\\n",
            "0          0.11840           0.27760         0.30010              0.14710   \n",
            "1          0.08474           0.07864         0.08690              0.07017   \n",
            "2          0.10960           0.15990         0.19740              0.12790   \n",
            "3          0.14250           0.28390         0.24140              0.10520   \n",
            "4          0.10030           0.13280         0.19800              0.10430   \n",
            "5          0.12780           0.17000         0.15780              0.08089   \n",
            "6          0.09463           0.10900         0.11270              0.07400   \n",
            "7          0.11890           0.16450         0.09366              0.05985   \n",
            "8          0.12730           0.19320         0.18590              0.09353   \n",
            "9          0.11860           0.23960         0.22730              0.08543   \n",
            "\n",
            "   ...  texture_worst  perimeter_worst  area_worst  smoothness_worst  \\\n",
            "0  ...          17.33           184.60      2019.0            0.1622   \n",
            "1  ...          23.41           158.80      1956.0            0.1238   \n",
            "2  ...          25.53           152.50      1709.0            0.1444   \n",
            "3  ...          26.50            98.87       567.7            0.2098   \n",
            "4  ...          16.67           152.20      1575.0            0.1374   \n",
            "5  ...          23.75           103.40       741.6            0.1791   \n",
            "6  ...          27.66           153.20      1606.0            0.1442   \n",
            "7  ...          28.14           110.60       897.0            0.1654   \n",
            "8  ...          30.73           106.20       739.3            0.1703   \n",
            "9  ...          40.68            97.65       711.4            0.1853   \n",
            "\n",
            "   compactness_worst  concavity_worst  concave points_worst  symmetry_worst  \\\n",
            "0             0.6656           0.7119                0.2654          0.4601   \n",
            "1             0.1866           0.2416                0.1860          0.2750   \n",
            "2             0.4245           0.4504                0.2430          0.3613   \n",
            "3             0.8663           0.6869                0.2575          0.6638   \n",
            "4             0.2050           0.4000                0.1625          0.2364   \n",
            "5             0.5249           0.5355                0.1741          0.3985   \n",
            "6             0.2576           0.3784                0.1932          0.3063   \n",
            "7             0.3682           0.2678                0.1556          0.3196   \n",
            "8             0.5401           0.5390                0.2060          0.4378   \n",
            "9             1.0580           1.1050                0.2210          0.4366   \n",
            "\n",
            "   fractal_dimension_worst  Unnamed: 32  \n",
            "0                  0.11890          NaN  \n",
            "1                  0.08902          NaN  \n",
            "2                  0.08758          NaN  \n",
            "3                  0.17300          NaN  \n",
            "4                  0.07678          NaN  \n",
            "5                  0.12440          NaN  \n",
            "6                  0.08368          NaN  \n",
            "7                  0.11510          NaN  \n",
            "8                  0.10720          NaN  \n",
            "9                  0.20750          NaN  \n",
            "\n",
            "[10 rows x 33 columns]\n"
          ]
        }
      ]
    },
    {
      "cell_type": "code",
      "source": [
        "df=df.drop(['id','Unnamed: 32'],axis=1)"
      ],
      "metadata": {
        "id": "tTz2uDbtGiRP"
      },
      "execution_count": 22,
      "outputs": []
    },
    {
      "cell_type": "code",
      "source": [
        "df['diagnosis']=df['diagnosis'].map({'M':1,'B':0})"
      ],
      "metadata": {
        "id": "c4FKrn2wL5wG"
      },
      "execution_count": 23,
      "outputs": []
    },
    {
      "cell_type": "code",
      "source": [
        "from sklearn.naive_bayes import GaussianNB\n",
        "x=df.drop(columns=['diagnosis'])\n",
        "y=df['diagnosis']\n",
        "x_train,x_test,y_train,y_test=train_test_split(x,y,test_size=0.3,random_state=2)\n",
        "model= GaussianNB()\n",
        "model.fit(x_train,y_train)\n",
        "y_pred=model.predict(x_test)\n",
        "accuracy=metrics.accuracy_score(y_pred,y_test)\n",
        "print(accuracy*100)"
      ],
      "metadata": {
        "colab": {
          "base_uri": "https://localhost:8080/"
        },
        "id": "Ji0gs2yWGsjB",
        "outputId": "58c8a25a-cad5-4d22-c1c3-1302057eb63e"
      },
      "execution_count": 24,
      "outputs": [
        {
          "output_type": "stream",
          "name": "stdout",
          "text": [
            "94.15204678362574\n"
          ]
        }
      ]
    },
    {
      "cell_type": "code",
      "source": [
        "y_pred=model.predict([[17.99,10.38,122.8,1001,0.1184,0.2776,0.3001,0.1471,0.2419,0.07871,1.095,0.9053,8.589,153.4,0.006399,0.04904,0.05373,0.01587,0.03003,0.006193,25.38,17.33,184.6,2019,0.1622,0.6656,0.7119,0.2654,0.4601,0.1189]])\n",
        "print(y_pred)"
      ],
      "metadata": {
        "colab": {
          "base_uri": "https://localhost:8080/"
        },
        "id": "SPloajUhID7e",
        "outputId": "8c024a61-9615-41bc-a138-2f6f8c25cabb"
      },
      "execution_count": 25,
      "outputs": [
        {
          "output_type": "stream",
          "name": "stdout",
          "text": [
            "[1]\n"
          ]
        },
        {
          "output_type": "stream",
          "name": "stderr",
          "text": [
            "/usr/local/lib/python3.8/dist-packages/sklearn/base.py:450: UserWarning: X does not have valid feature names, but GaussianNB was fitted with feature names\n",
            "  warnings.warn(\n"
          ]
        }
      ]
    }
  ]
}